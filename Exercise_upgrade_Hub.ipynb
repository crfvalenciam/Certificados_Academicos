{
  "nbformat": 4,
  "nbformat_minor": 0,
  "metadata": {
    "colab": {
      "provenance": [],
      "authorship_tag": "ABX9TyNCH6wGiKnyid8rR/D0KWW+",
      "include_colab_link": true
    },
    "kernelspec": {
      "name": "python3",
      "display_name": "Python 3"
    },
    "language_info": {
      "name": "python"
    }
  },
  "cells": [
    {
      "cell_type": "markdown",
      "metadata": {
        "id": "view-in-github",
        "colab_type": "text"
      },
      "source": [
        "<a href=\"https://colab.research.google.com/github/crfvalenciam/Certificados_Academicos/blob/main/Exercise_upgrade_Hub.ipynb\" target=\"_parent\"><img src=\"https://colab.research.google.com/assets/colab-badge.svg\" alt=\"Open In Colab\"/></a>"
      ]
    },
    {
      "cell_type": "code",
      "execution_count": 1,
      "metadata": {
        "colab": {
          "base_uri": "https://localhost:8080/"
        },
        "id": "oYKNhfb8iiM_",
        "outputId": "00882a61-ac90-478a-e1e6-45e013e300d4"
      },
      "outputs": [
        {
          "output_type": "stream",
          "name": "stdout",
          "text": [
            "Ingrese el numero de caracteres que desea para su contraseña: 10\n",
            "Su contraseña es: IVnR9PTybF y su nivel de seguridad es: medio\n",
            "Desea generar una nueva contraseña: si\n",
            "Ingrese el numero de caracteres que desea para su contraseña: 9\n",
            "Su contraseña es: EuRviTvaN y su nivel de seguridad es: medio\n",
            "Desea generar una nueva contraseña: no\n",
            "Nos alegra ser de ayuda, que tenga buen día\n"
          ]
        }
      ],
      "source": [
        "def random_password():\n",
        "    \n",
        "    import random as rd\n",
        "    \n",
        "    mayuscula=list('ABCDEFGHIJKLMNOPQRSTUVWXYZ')\n",
        "    minuscula=list('abcdefghijklmnopqrstuvwxyz')\n",
        "    caracter_especial=list('*#$%/')\n",
        "    numeros=list('1234567890')\n",
        "    lista_total=mayuscula+minuscula+caracter_especial+numeros\n",
        "    password=[];i=0;j=0;k=0;l=0;m=int(input('Ingrese el numero de caracteres que desea para su contraseña: '))\n",
        "    \n",
        "    while m>0:\n",
        "        password.append(rd.choice(lista_total))\n",
        "        for a in numeros:\n",
        "            if password.count(a) > 0:\n",
        "                i+=1\n",
        "        for b in mayuscula:\n",
        "            if password.count(b) > 0:\n",
        "                j+=1\n",
        "        for c in minuscula:\n",
        "            if password.count(c) > 0:\n",
        "                k+=1\n",
        "        for d in caracter_especial:\n",
        "            if password.count(d) > 0:\n",
        "                l+=1\n",
        "        m-=1\n",
        "        \n",
        "    password=''.join(map(str,password))\n",
        "    \n",
        "    if len(password)>8 and i>1 and j>0 and k>1 and l>0:\n",
        "        nivel_de_seguridad='Muy alto'\n",
        "    elif len(password)>8 and i>0 and j>0 and k>0 and l>0:\n",
        "        nivel_de_seguridad='Alto'\n",
        "    elif len(password)<6:\n",
        "        nivel_de_seguridad='bajo'\n",
        "    else:\n",
        "        nivel_de_seguridad='medio'\n",
        "        \n",
        "    print('Su contraseña es: '+password+ ' y su nivel de seguridad es: '+ nivel_de_seguridad)\n",
        "    \n",
        "def create_password():\n",
        "\n",
        "    random_password()\n",
        "        \n",
        "    n=str(input('Desea generar una nueva contraseña: '))\n",
        "    \n",
        "    while n.lower()=='si':\n",
        "        random_password()\n",
        "        n=str(input('Desea generar una nueva contraseña: '))\n",
        "    print('Nos alegra ser de ayuda, que tenga buen día')\n",
        "        \n",
        "create_password()\n"
      ]
    },
    {
      "cell_type": "code",
      "source": [],
      "metadata": {
        "id": "gNzblo3ojX1x"
      },
      "execution_count": null,
      "outputs": []
    }
  ]
}